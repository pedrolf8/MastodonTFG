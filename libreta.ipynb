{
 "cells": [
  {
   "cell_type": "code",
   "execution_count": 2,
   "metadata": {},
   "outputs": [],
   "source": [
    "import csv\n",
    "import json\n",
    "import sys\n",
    "from subprocess import call\n",
    "import ast\n",
    "import os\n",
    "import pandas as pd"
   ]
  },
  {
   "cell_type": "code",
   "execution_count": null,
   "metadata": {},
   "outputs": [],
   "source": [
    "#call(\"pwd\")\n",
    "#os.chdir('./raphtory-mastodon/mastodon')\n",
    "#for chunck_df in pd.read_csv('znark.us.csv', chunksize=1[][][]):\n",
    "    # each chunck_df contains a part of the whole CSV\n",
    "    #chunck_df"
   ]
  },
  {
   "cell_type": "code",
   "execution_count": null,
   "metadata": {},
   "outputs": [],
   "source": [
    "os.chdir('/var/mastodon')\n",
    "os.system('ls > /home/pllorente/lista.txt')\n",
    "\n"
   ]
  },
  {
   "cell_type": "code",
   "execution_count": null,
   "metadata": {},
   "outputs": [],
   "source": [
    "os.chdir('/home/pllorente')\n",
    "l = open('lista.txt', 'r')\n",
    "l2 = open('lista4.txt', 'w')\n",
    "for row in l:\n",
    "    if(\"lista\" not in row):\n",
    "        file_size = os.path.getsize(r'/var/mastodon/'+ str(row.replace(\"\\n\", \"\")))\n",
    "        l2.write(str(row.replace(\"\\n\", \"\"))+', '+str(file_size) + \"\\n\")\n",
    "l.close()\n",
    "l2.close()"
   ]
  },
  {
   "cell_type": "code",
   "execution_count": null,
   "metadata": {},
   "outputs": [],
   "source": [
    "os.chdir('/home/pllorente')\n",
    "l = open('lista.txt', 'r')\n",
    "l2 = open('lista4.txt', 'w')\n",
    "for row in l:\n",
    "    if(\"lista\" not in row):\n",
    "        file_size = os.system('wc -l /var/mastodon/' + row)\n",
    "        f22 = os.system('wc -l /home/pllorente/analizar/' + row)\n",
    "        l2.write(str(row.replace(\"\\n\", \"\"))+', '+str(file_size)+', '+str(f22) + \"\\n\")\n",
    "l.close()\n",
    "l2.close()"
   ]
  },
  {
   "cell_type": "code",
   "execution_count": null,
   "metadata": {},
   "outputs": [],
   "source": [
    "os.chdir('/var/mastodon')\n",
    "os.system('ls > /home/pllorente/lista.txt')\n",
    "os.chdir('/home/pllorente')\n",
    "os.system('mkdir grafo')\n",
    "os.system('mkdir analizar')\n",
    "os.chdir('analizar')\n",
    "os.system('ls > /home/pllorente/lista2.txt')\n",
    "os.chdir('/home/pllorente')\n",
    "l = open('lista.txt', 'r')\n",
    "l2 = open('lista2.txt', 'r')\n",
    "a = []\n",
    "b= []\n",
    "#Primera depuración: En lista metemos todos los csvs, para evitar que lea lista.txt, solo metemos los archivos que no contengan la palabra lista en su nombre\n",
    "for row in l2:\n",
    "    if (\"lista\" in row):\n",
    "        print(\"\")\n",
    "    else:\n",
    "        a.append(row.replace(\"\\n\", \"\"))\n",
    "for row in l:\n",
    "    row = row.replace(\"\\n\", \"\")\n",
    "    if(row not in a and \"lista\" not in row):\n",
    "        b.append(row)\n",
    "    else:\n",
    "        print(\"\")\n",
    "l.close()\n",
    "l2.close()\n",
    "print(len(a))\n",
    "print(b)"
   ]
  },
  {
   "cell_type": "markdown",
   "metadata": {},
   "source": [
    "### Trying first to parse one of the files as a dataframe. First processing mentions"
   ]
  },
  {
   "cell_type": "code",
   "execution_count": null,
   "metadata": {
    "scrolled": false
   },
   "outputs": [],
   "source": [
    "\n",
    "i = []\n",
    "for nombre in a:\n",
    "    print(nombre)\n",
    "    df = pd.read_csv('/var/mastodon/' + nombre, encoding='latin-1')\n",
    "    c = df.columns\n",
    "    #Depuración 2: Tras hacer pasadas hemos visto que hay algunos dataframes que no contienen la columna mentions que es la que nos interesa, por lo que haremos un primer corte para evitar errores\n",
    "    if 'mentions' in c:\n",
    "        dm = df[df['mentions'] != '[]' ]\n",
    "        r = pd.DataFrame()\n",
    "        i = []\n",
    "        jj= []\n",
    "        while(i<len(dm['mentions'])):\n",
    "            #Depuración 3: Muchos de los elementos en mentions, son float por lo que no los acepta ast.literal_eval, hacemos el segundo corte, porque se ha observado que hay strings aleatorios que no concuerdan con el formato que buscamos como 'Web'\n",
    "            if (isinstance(dm['mentions'].iloc[i], str)):\n",
    "                if(\"username\" in str(dm['mentions'].iloc[i])):\n",
    "                    w = ast.literal_eval(dm['mentions'].iloc[i])\n",
    "                    jj.append(w)\n",
    "            i = i + 1\n",
    "        i = []\n",
    "        r['mentions'] = jj\n",
    "        #Cambiamos el apartado acct por el servidor del usuario que menciona\n",
    "        #Uno de los problemas que hemos visto es que una vez creado el dataframe, es que como no estamos creando uno nuevo, se quedan los elementos que no se han parseado correctamente, en vez de crear un dataframe nuevo, compararemos con la longitud del array que hemos usado para hacer append jj\n",
    "        i = []\n",
    "        j= []\n",
    "        while(i<len(jj)):\n",
    "            g = str(dm['account.acct'].iloc[i])\n",
    "            u = str(dm['account.username'].iloc[i])\n",
    "            j.append(g.replace(u+\"@\", \"\"))\n",
    "            dm['account.acct'].iloc[i] = j[i]\n",
    "            i = i + 1\n",
    "        l = 0\n",
    "        f = 0\n",
    "        while(l<len(jj)):\n",
    "            if(len(r['mentions'].iloc[l])>f):\n",
    "                f = len(r['mentions'].iloc[l])\n",
    "            l = l + 1\n",
    "        #Ponemos los servidores en mentions\n",
    "        i = 0\n",
    "        hh = 0\n",
    "        p = f\n",
    "        j= []\n",
    "        while(hh<p):\n",
    "            while(i<len(jj)):\n",
    "                l2 = len(r['mentions'].iloc[i])\n",
    "                if(l2>hh):\n",
    "                    g = str(r['mentions'].iloc[i][hh]['acct'])\n",
    "                    u = str(r['mentions'].iloc[i][hh]['username'])\n",
    "                    r['mentions'].iloc[i][hh]['acct'] = g.replace(u + \"@\", \"\")\n",
    "                i = i + 1\n",
    "            hh = hh + 1\n",
    "            \n",
    "        res = pd.DataFrame()\n",
    "\n",
    "        h = 0\n",
    "        j = 0\n",
    "        p = f\n",
    "        m = []\n",
    "        n = []\n",
    "        ui = []\n",
    "        use = []\n",
    "        da = []\n",
    "        while(j<p):\n",
    "            while(h<len(jj)):\n",
    "                l1 = len(r['mentions'].iloc[h])\n",
    "                if(l1>j):\n",
    "                    if(type(r['mentions'].iloc[h][j]) is dict):\n",
    "                        m.append(r['mentions'].iloc[h][j]['id'])\n",
    "                        n.append(r['mentions'].iloc[h][j]['acct'])\n",
    "                        ui.append(dm['account.id'].iloc[h])\n",
    "                        use.append(dm['account.acct'].iloc[h])\n",
    "                        da.append(dm['created_at'].iloc[h])\n",
    "                h = h + 1\n",
    "            h = 0\n",
    "            j = j + 1 \n",
    "        res['Date'] = da\n",
    "        res['UserId'] = ui\n",
    "        res['ServerUser'] = use\n",
    "        res['UserMentioned'] = m\n",
    "        res['ServerMentioned'] = n\n",
    "        res.to_csv('./analizar/'+str(nombre))\n",
    "        #Hacemos los archivos para la carpeta grafo\n",
    "        if(len(res['ServerUser']) != 0):\n",
    "            enlace = pd.DataFrame()\n",
    "            nodo = pd.DataFrame()\n",
    "            y = []\n",
    "            w = []\n",
    "            z = 0\n",
    "            t = 0\n",
    "            enlace['source'] = res['ServerUser']\n",
    "            enlace['target'] = res['ServerMentioned']\n",
    "            enlace.to_csv('./grafo/enlace'+str(nombre))\n",
    "            \n",
    "            servidores = enlace['source'].unique()\n",
    "            servidoress = enlace['target'].unique()\n",
    "            servidores = servidores.tolist()\n",
    "            num = []\n",
    "            serv = []\n",
    "            for t in servidoress:\n",
    "                if not t in servidores:\n",
    "                    servidores.append(t)\n",
    "            y = 0\n",
    "            while(y<len(servidores)):\n",
    "                num.append(y)\n",
    "                serv.append(servidores[y])\n",
    "                y = y + 1\n",
    "            nodo['Id'] = num\n",
    "            nodo['Label'] = serv\n",
    "\n",
    "            nodo.to_csv('./grafo/nodo'+str(nombre))\n",
    "    else:\n",
    "        b.pop(i)\n",
    "    i = i + 1\n",
    "\n",
    "\n",
    "#Una de las decisiones tomadas es en vez de estar creando una columna para cada uno de los usuarios mencionados, se juntan todas las menciones en una única columna."
   ]
  },
  {
   "cell_type": "code",
   "execution_count": null,
   "metadata": {},
   "outputs": [],
   "source": [
    "#Comprueba si hay repetidosw\n",
    "r = pd.read_csv('/home/pllorente/resultado/resultadoanalizar.csv')\n",
    "i = 0\n",
    "contador = 0\n",
    "h = []\n",
    "j = 1\n",
    "\n",
    "while(j<(len(r)-1)):\n",
    "    while(i<len(r)):\n",
    "        if(i != j):\n",
    "            if (r.iloc[j]['Date'] == r.iloc[i]['Date'] and r.iloc[j]['ServerMentioned'] == r.iloc[i]['ServerMentioned'] and r.iloc[j]['ServerUser'] == r.iloc[i]['ServerUser'] and r.iloc[j]['UserId'] == r.iloc[i]['UserId'] and r.iloc[j]['UserMentioned'] == r.iloc[i]['UserMentioned']):\n",
    "                print('Iguales')\n",
    "                contador = contador + 1\n",
    "                h.append([i,j])\n",
    "            print(i)\n",
    "        i = i + 1\n",
    "    i = j\n",
    "    j = j + 1\n",
    "    \n",
    "\n",
    "    \n",
    "\n",
    "\n"
   ]
  },
  {
   "cell_type": "code",
   "execution_count": null,
   "metadata": {},
   "outputs": [],
   "source": [
    "iny = 0\n",
    "os.system('mkdir algo')\n",
    "os.chdir('algo')\n",
    "for chunck_df in pd.read_csv('/var/mastodon/soc.canned-death.us.csv', chunksize=1000):\n",
    "    nombre = 'soc.canned-death.us' + str(iny) + '.csv'\n",
    "    df = chunck_df\n",
    "    dm = df[df.mentions != '[]' ]\n",
    "    i = 0\n",
    "    jj= []\n",
    "    print(ast.literal_eval(str(dm['mentions'].iloc[0]))[0])\n",
    "    while(i<len(dm['mentions'])):\n",
    "        if(type(dm['mentions'].iloc[i]) is str):\n",
    "            jj.append(ast.literal_eval(dm['mentions'].iloc[i]))\n",
    "        i = i + 1\n",
    "    i = 0\n",
    "    while(i<len(j)):\n",
    "        dm['mentions'].iloc[i] = j[i]\n",
    "        i = i + 1\n",
    "    men = dm['mentions']\n",
    "    date = dm['created_at']\n",
    "    user = dm['account.acct']\n",
    "    us = dm['account.username']\n",
    "    #Cambiamos el apartado acct por el servidor del usuario que menciona\n",
    "    i = 0\n",
    "    j= []\n",
    "    while(i<len(user)):\n",
    "        g = str(dm['account.acct'].iloc[i])\n",
    "        u = str(dm['account.username'].iloc[i])\n",
    "        j.append(g.replace(u+\"@\", \"\"))\n",
    "        dm['account.acct'].iloc[i] = j[i]\n",
    "        i = i + 1\n",
    "    l = 0\n",
    "    f = 0\n",
    "    while(l<len(jj)):\n",
    "        if(len(dm['mentions'].iloc[l])>f):\n",
    "            f = len(dm['mentions'].iloc[l])\n",
    "        l = l + 1\n",
    "    #Ponemos los servidores en mentions\n",
    "    i = 0\n",
    "    j= []\n",
    "    hh = 0\n",
    "    p = f\n",
    "    while(hh<p):\n",
    "        while(i<len(jj)):\n",
    "            l2 = len(dm['mentions'].iloc[i])\n",
    "            print(i)\n",
    "            if(l2>hh):\n",
    "                g = str(dm['mentions'].iloc[i][hh]['acct'])\n",
    "                u = str(dm['mentions'].iloc[i][hh]['username'])\n",
    "                dm['mentions'].iloc[i][hh]['acct'] = g.replace(u + \"@\", \"\")\n",
    "            i = i + 1\n",
    "        hh = hh + 1\n",
    "        \n",
    "    res = pd.DataFrame()\n",
    "    res['Date'] = dm['created_at']\n",
    "    res['UserId'] = dm['account.id']\n",
    "    res['ServerUser'] = dm['account.acct']\n",
    "\n",
    "    h = 0\n",
    "    j = 0\n",
    "    p = f\n",
    "    m = []\n",
    "    n = []\n",
    "    while(j<p):\n",
    "        while(h<len(jj)):\n",
    "            l1 = len(dm['mentions'].iloc[h])\n",
    "            if(l1>j):\n",
    "                m.append(dm['mentions'].iloc[h][j]['id'])\n",
    "                n.append(dm['mentions'].iloc[h][j]['acct'])\n",
    "            else:\n",
    "                m.append(-1)\n",
    "                n.append(-1)\n",
    "            h = h + 1\n",
    "        g = 'UserMentioned' + str(j)\n",
    "        i = 'ServerMentioned' + str(j)\n",
    "        h = 0\n",
    "        res[g] = m\n",
    "        res[i] = n\n",
    "        m = []\n",
    "        n = []\n",
    "        j = j + 1  \n",
    "    res.to_csv('./analizar/'+ nombre)\n",
    "    #Hacemos los archivos para la carpeta grafo\n",
    "    if(len(res['ServerUser']) != 0):\n",
    "        enlace = pd.DataFrame()\n",
    "        nodo = pd.DataFrame()\n",
    "        y = []\n",
    "        w = []\n",
    "        z = 0\n",
    "        t = 0\n",
    "\n",
    "        while(z<p):\n",
    "            s = 'ServerMentioned' + str(z)\n",
    "            while(t<len(res[s])):\n",
    "                if (res[s].iloc[t] != -1):\n",
    "                    w.append(res['ServerUser'].iloc[t])\n",
    "                    y.append(res[s].iloc[t])\n",
    "                t = t + 1\n",
    "            z = z + 1\n",
    "        enlace['source'] = pd.concat(w, axis= 0)\n",
    "        enlace['target'] = pd.concat(y, axis= 0)\n",
    "\n",
    "        servidores = enlace['source'].unique()\n",
    "        servidoress = enlace['target'].unique()\n",
    "        servidores = servidores.tolist()\n",
    "        num = []\n",
    "        serv = []\n",
    "        for t in servidoress:\n",
    "            if not t in servidores:\n",
    "                servidores.append(t)\n",
    "        y = 0\n",
    "        while(y<len(servidores)):\n",
    "            num.append(y)\n",
    "            serv.append(servidores[y].iloc[y])\n",
    "            y = y + 1\n",
    "        nodo['Id'] = num\n",
    "        nodo['Label'] = serv\n",
    "        enlace.to_csv('./grafo/enlace'+str(nombre))\n",
    "        nodo.to_csv('./grafo/nodo'+str(nombre))\n",
    "        iny = iny + 1"
   ]
  },
  {
   "cell_type": "code",
   "execution_count": null,
   "metadata": {},
   "outputs": [],
   "source": [
    "\n",
    "os.system('ls > lista.txt')\n",
    "l = open('lista.txt', 'r')\n",
    "a = []\n",
    "for row in l:\n",
    "    if (\"lista\" in row):\n",
    "        print(\"\")\n",
    "    else:\n",
    "        a.append(row.replace(\"\\n\", \"\"))\n",
    "        \n",
    "l.close()\n",
    "res = pd.DataFrame()\n",
    "bf = []\n",
    "uf = []\n",
    "dff = []\n",
    "sf = []\n",
    "vf = []\n",
    "for x in a:\n",
    "    print(x)\n",
    "    df = pd.read_csv(str(x))\n",
    "    i = 0\n",
    "    y = 0\n",
    "    while(y < len(df['ServerUser'])):\n",
    "        print(y)\n",
    "        dff.append(df['Date'].iloc[y])\n",
    "        sf.append(df['ServerUser'].iloc[y])\n",
    "        vf.append(df['UserId'].iloc[y])\n",
    "        bf.append(df['ServerMentioned'].iloc[y])\n",
    "        uf.append(df['UserMentioned'].iloc[y])\n",
    "        y = y + 1\n",
    "\n",
    "res['Date'] = dff\n",
    "res['UserId'] = vf\n",
    "res['ServerUser'] = sf    \n",
    "res['UserMentioned'] = uf\n",
    "res['ServerMentioned'] = bf\n",
    "res.to_csv('../resultado/resultadoanalizar.csv')\n",
    "\n",
    "\n",
    "\n",
    "\n"
   ]
  },
  {
   "cell_type": "code",
   "execution_count": null,
   "metadata": {},
   "outputs": [],
   "source": []
  },
  {
   "cell_type": "code",
   "execution_count": null,
   "metadata": {},
   "outputs": [],
   "source": [
    "os.chdir('/home/pllorente')\n",
    "os.chdir('grafo')\n",
    "os.system('ls > lista.txt')\n",
    "l = open('lista.txt', 'r')\n",
    "a = []\n",
    "b = []\n",
    "for row in l:\n",
    "    if (\"enlace\" in row):\n",
    "        b.append(row.replace(\"\\n\", \"\"))\n",
    "    elif (\"lista\" in row):\n",
    "        print(\"\")\n",
    "    else:\n",
    "        a.append(row.replace(\"\\n\", \"\"))\n",
    "l.close()\n",
    "nodo = pd.DataFrame()\n",
    "i = 0\n",
    "ni = []\n",
    "nl = []\n",
    "for d in a:\n",
    "    f = pd.read_csv(str(d))\n",
    "    while(i < len(f)):\n",
    "        ni.append(f['Id'].iloc[i])\n",
    "        nl.append(f['Label'].iloc[i])\n",
    "        i = i + 1\n",
    "nodo['Id'] = ni\n",
    "nodo['Label'] = nl\n",
    "nodo.to_csv('/home/pllorente/resultado/resultadonodo.csv')"
   ]
  },
  {
   "cell_type": "code",
   "execution_count": null,
   "metadata": {},
   "outputs": [],
   "source": [
    "os.chdir('/home/pllorente')\n",
    "os.chdir('grafo')\n",
    "enlace = pd.DataFrame()\n",
    "\n",
    "n = pd.read_csv('/home/pllorente/resultado/resultadoanalizar.csv')\n",
    "\n",
    "enlace['source'] = n['ServerUser']\n",
    "enlace['target'] = n['ServerMentioned']\n",
    "\n",
    "enlace.to_csv('/home/pllorente/resultado/resultadoenlace.csv')\n",
    "\n",
    "\n",
    "enlace2 = pd.DataFrame()\n",
    "enlace2['Date'] = n['Date']\n",
    "enlace2['source'] = n['ServerUser']\n",
    "enlace2['target'] = n['ServerMentioned']\n",
    "\n",
    "enlace2.to_csv('/home/pllorente/resultado/resultadoenlacedinamico.csv')"
   ]
  },
  {
   "cell_type": "code",
   "execution_count": 3,
   "metadata": {},
   "outputs": [
    {
     "name": "stderr",
     "output_type": "stream",
     "text": [
      "/tmp/ipykernel_225441/2297720155.py:1: DtypeWarning: Columns (2) have mixed types. Specify dtype option on import or set low_memory=False.\n",
      "  x = pd.read_csv('/home/pllorente/resultado/resultadoanalizar.csv')\n"
     ]
    }
   ],
   "source": [
    "\n",
    "x = pd.read_csv('/home/pllorente/resultado/resultadoanalizar.csv')\n",
    "\n"
   ]
  },
  {
   "cell_type": "code",
   "execution_count": null,
   "metadata": {},
   "outputs": [],
   "source": [
    "s = 3824367+3277738+2961351+2945066+2742578+2099004+2063482+1939754+1883395\n",
    "t = 192628+92594+15122+130535+142108+108175+20924+108765+102806\n",
    "\n",
    "import matplotlib as mpl\n",
    "import matplotlib.pyplot as plt\n",
    "import numpy as np\n",
    "\n",
    "fig, ax = plt.subplots(figsize=(7,5))\n",
    "x = [\"0\", \">1\"]\n",
    "y = [s, t]\n",
    "\n",
    "ax.bar(x,y)\n",
    "# Set a title\n",
    "ax.set_title(\"Numero de mensajes con o sin mencion\")\n",
    "\n",
    "# Set axes labels\n",
    "ax.set_xlabel(\"Numero de menciones\")\n",
    "ax.set_ylabel(\"Numero de mensajes\")\n",
    "\n",
    "plt.show(fig)"
   ]
  },
  {
   "cell_type": "code",
   "execution_count": null,
   "metadata": {},
   "outputs": [],
   "source": [
    "#Lista de los servidores con los que trabajamos\n",
    "serveru = x['ServerUser'].unique()\n",
    "serverm = x['ServerMentioned'].unique()\n",
    "print(serveru)\n",
    "print(serverm)"
   ]
  },
  {
   "cell_type": "code",
   "execution_count": null,
   "metadata": {},
   "outputs": [],
   "source": [
    "usernum = x['UserId'].unique()\n",
    "userm = x['UserMentioned'].unique()\n",
    "longitud = len(x)"
   ]
  },
  {
   "cell_type": "code",
   "execution_count": 43,
   "metadata": {},
   "outputs": [
    {
     "name": "stdout",
     "output_type": "stream",
     "text": [
      "inicio:2014-05-19 17:02:59\n",
      "fin:2018-05-28 09:56:48\n"
     ]
    }
   ],
   "source": [
    "#Fecha de inicio y fin\n",
    "i = 0\n",
    "d = []\n",
    "y = pd.DataFrame()\n",
    "for z in x['Date']:\n",
    "    if('201' in str(z)):\n",
    "        d.append(str(z)[0:19])\n",
    "y[\"Date\"] = d\n",
    "y[\"Date\"] = pd.to_datetime(y[\"Date\"], format=\"%Y-%m-%d\"+'T'+\"%H:%M:%S\")\n",
    "y = y.sort_values(by='Date')\n",
    "año = y['Date']\n",
    "inicio = año.iloc[0]\n",
    "fin = año.iloc[len(año)-1]\n",
    "print('inicio:'+str(inicio))\n",
    "print('fin:'+str(fin))\n"
   ]
  },
  {
   "cell_type": "code",
   "execution_count": 18,
   "metadata": {},
   "outputs": [
    {
     "data": {
      "text/plain": [
       "Text(0.5, 0, 'Numero menciones')"
      ]
     },
     "execution_count": 18,
     "metadata": {},
     "output_type": "execute_result"
    },
    {
     "data": {
      "image/png": "[encoded data removed]",
      "text/plain": [
       "<Figure size 720x720 with 1 Axes>"
      ]
     },
     "metadata": {
      "needs_background": "light"
     },
     "output_type": "display_data"
    }
   ],
   "source": [
    "#Ranking Servidores\n",
    "import matplotlib as mpl\n",
    "import matplotlib.pyplot as plt\n",
    "import numpy as np\n",
    "serv = x.groupby(['ServerUser']).count().sort_values('Date', ascending  = False)['Date'][:50]\n",
    "serv.plot(figsize = (10,10), kind='barh')\n",
    "plt.xlabel('Numero menciones')"
   ]
  },
  {
   "cell_type": "code",
   "execution_count": 6,
   "metadata": {},
   "outputs": [
    {
     "data": {
      "image/png": "[encoded data removed]",
      "text/plain": [
       "<Figure size 720x576 with 1 Axes>"
      ]
     },
     "metadata": {
      "needs_background": "light"
     },
     "output_type": "display_data"
    }
   ],
   "source": [
    "#Ranking Usuarios\n",
    "serv = x.groupby(['ServerUser']).count().sort_values('Date', ascending  = False)['Date']\n",
    "import matplotlib.pyplot as plt\n",
    "import numpy as np\n",
    "import pandas as pd\n",
    "\n",
    "\n",
    "# sort the data:\n",
    "data_sorted = np.sort(serv)\n",
    "\n",
    "# calculate the proportional values of samples\n",
    "p = 1. * np.arange(len(serv)) / (len(serv) - 1)\n",
    "\n",
    "# plot the sorted data:\n",
    "fig = plt.figure()\n",
    "ax2 = fig.add_subplot(122)\n",
    "plt.rcParams[\"figure.figsize\"] = (10,8)\n",
    "ax2.plot(data_sorted, p)\n",
    "ax2.set_xlabel('$Menciones$')\n",
    "ax2.set_ylabel('$p$')\n",
    "plt.xscale('log')"
   ]
  },
  {
   "cell_type": "code",
   "execution_count": 17,
   "metadata": {},
   "outputs": [
    {
     "ename": "ConversionError",
     "evalue": "Failed to convert value(s) to axis units: ['ServerUser', 'ServerMentioned']",
     "output_type": "error",
     "traceback": [
      "\u001b[0;31m---------------------------------------------------------------------------\u001b[0m",
      "\u001b[0;31mValueError\u001b[0m                                Traceback (most recent call last)",
      "File \u001b[0;32m~/.local/lib/python3.10/site-packages/matplotlib/axis.py:1506\u001b[0m, in \u001b[0;36mAxis.convert_units\u001b[0;34m(self, x)\u001b[0m\n\u001b[1;32m   <a href='file:///home/pllorente/.local/lib/python3.10/site-packages/matplotlib/axis.py?line=1504'>1505</a>\u001b[0m \u001b[39mtry\u001b[39;00m:\n\u001b[0;32m-> <a href='file:///home/pllorente/.local/lib/python3.10/site-packages/matplotlib/axis.py?line=1505'>1506</a>\u001b[0m     ret \u001b[39m=\u001b[39m \u001b[39mself\u001b[39;49m\u001b[39m.\u001b[39;49mconverter\u001b[39m.\u001b[39;49mconvert(x, \u001b[39mself\u001b[39;49m\u001b[39m.\u001b[39;49munits, \u001b[39mself\u001b[39;49m)\n\u001b[1;32m   <a href='file:///home/pllorente/.local/lib/python3.10/site-packages/matplotlib/axis.py?line=1506'>1507</a>\u001b[0m \u001b[39mexcept\u001b[39;00m \u001b[39mException\u001b[39;00m \u001b[39mas\u001b[39;00m e:\n",
      "File \u001b[0;32m~/.local/lib/python3.10/site-packages/matplotlib/category.py:49\u001b[0m, in \u001b[0;36mStrCategoryConverter.convert\u001b[0;34m(value, unit, axis)\u001b[0m\n\u001b[1;32m     <a href='file:///home/pllorente/.local/lib/python3.10/site-packages/matplotlib/category.py?line=47'>48</a>\u001b[0m \u001b[39mif\u001b[39;00m unit \u001b[39mis\u001b[39;00m \u001b[39mNone\u001b[39;00m:\n\u001b[0;32m---> <a href='file:///home/pllorente/.local/lib/python3.10/site-packages/matplotlib/category.py?line=48'>49</a>\u001b[0m     \u001b[39mraise\u001b[39;00m \u001b[39mValueError\u001b[39;00m(\n\u001b[1;32m     <a href='file:///home/pllorente/.local/lib/python3.10/site-packages/matplotlib/category.py?line=49'>50</a>\u001b[0m         \u001b[39m'\u001b[39m\u001b[39mMissing category information for StrCategoryConverter; \u001b[39m\u001b[39m'\u001b[39m\n\u001b[1;32m     <a href='file:///home/pllorente/.local/lib/python3.10/site-packages/matplotlib/category.py?line=50'>51</a>\u001b[0m         \u001b[39m'\u001b[39m\u001b[39mthis might be caused by unintendedly mixing categorical and \u001b[39m\u001b[39m'\u001b[39m\n\u001b[1;32m     <a href='file:///home/pllorente/.local/lib/python3.10/site-packages/matplotlib/category.py?line=51'>52</a>\u001b[0m         \u001b[39m'\u001b[39m\u001b[39mnumeric data\u001b[39m\u001b[39m'\u001b[39m)\n\u001b[1;32m     <a href='file:///home/pllorente/.local/lib/python3.10/site-packages/matplotlib/category.py?line=52'>53</a>\u001b[0m StrCategoryConverter\u001b[39m.\u001b[39m_validate_unit(unit)\n",
      "\u001b[0;31mValueError\u001b[0m: Missing category information for StrCategoryConverter; this might be caused by unintendedly mixing categorical and numeric data",
      "\nThe above exception was the direct cause of the following exception:\n",
      "\u001b[0;31mConversionError\u001b[0m                           Traceback (most recent call last)",
      "\u001b[1;32m/home/pllorente/libreta.ipynb Cell 22'\u001b[0m in \u001b[0;36m<cell line: 4>\u001b[0;34m()\u001b[0m\n\u001b[1;32m      <a href='vscode-notebook-cell://ssh-remote%2Braphtory01.dit.upm.es/home/pllorente/libreta.ipynb#ch0000035vscode-remote?line=1'>2</a>\u001b[0m serv1 \u001b[39m=\u001b[39m x\u001b[39m.\u001b[39mgroupby([\u001b[39m'\u001b[39m\u001b[39mServerMentioned\u001b[39m\u001b[39m'\u001b[39m])\u001b[39m.\u001b[39mcount()\u001b[39m.\u001b[39msort_values(\u001b[39m'\u001b[39m\u001b[39mDate\u001b[39m\u001b[39m'\u001b[39m, ascending  \u001b[39m=\u001b[39m \u001b[39mFalse\u001b[39;00m)[\u001b[39m'\u001b[39m\u001b[39mDate\u001b[39m\u001b[39m'\u001b[39m][:\u001b[39m50\u001b[39m]\n\u001b[1;32m      <a href='vscode-notebook-cell://ssh-remote%2Braphtory01.dit.upm.es/home/pllorente/libreta.ipynb#ch0000035vscode-remote?line=2'>3</a>\u001b[0m data \u001b[39m=\u001b[39m [serv,serv1]\n\u001b[0;32m----> <a href='vscode-notebook-cell://ssh-remote%2Braphtory01.dit.upm.es/home/pllorente/libreta.ipynb#ch0000035vscode-remote?line=3'>4</a>\u001b[0m plt\u001b[39m.\u001b[39;49mxticks([\u001b[39m'\u001b[39;49m\u001b[39mServerUser\u001b[39;49m\u001b[39m'\u001b[39;49m, \u001b[39m'\u001b[39;49m\u001b[39mServerMentioned\u001b[39;49m\u001b[39m'\u001b[39;49m])\n\u001b[1;32m      <a href='vscode-notebook-cell://ssh-remote%2Braphtory01.dit.upm.es/home/pllorente/libreta.ipynb#ch0000035vscode-remote?line=4'>5</a>\u001b[0m plt\u001b[39m.\u001b[39mylabel(\u001b[39m'\u001b[39m\u001b[39mMentions\u001b[39m\u001b[39m'\u001b[39m)\n\u001b[1;32m      <a href='vscode-notebook-cell://ssh-remote%2Braphtory01.dit.upm.es/home/pllorente/libreta.ipynb#ch0000035vscode-remote?line=5'>6</a>\u001b[0m plt\u001b[39m.\u001b[39mboxplot(data)\n",
      "File \u001b[0;32m~/.local/lib/python3.10/site-packages/matplotlib/pyplot.py:1809\u001b[0m, in \u001b[0;36mxticks\u001b[0;34m(ticks, labels, **kwargs)\u001b[0m\n\u001b[1;32m   <a href='file:///home/pllorente/.local/lib/python3.10/site-packages/matplotlib/pyplot.py?line=1805'>1806</a>\u001b[0m         \u001b[39mraise\u001b[39;00m \u001b[39mTypeError\u001b[39;00m(\u001b[39m\"\u001b[39m\u001b[39mxticks(): Parameter \u001b[39m\u001b[39m'\u001b[39m\u001b[39mlabels\u001b[39m\u001b[39m'\u001b[39m\u001b[39m can\u001b[39m\u001b[39m'\u001b[39m\u001b[39mt be set \u001b[39m\u001b[39m\"\u001b[39m\n\u001b[1;32m   <a href='file:///home/pllorente/.local/lib/python3.10/site-packages/matplotlib/pyplot.py?line=1806'>1807</a>\u001b[0m                         \u001b[39m\"\u001b[39m\u001b[39mwithout setting \u001b[39m\u001b[39m'\u001b[39m\u001b[39mticks\u001b[39m\u001b[39m'\u001b[39m\u001b[39m\"\u001b[39m)\n\u001b[1;32m   <a href='file:///home/pllorente/.local/lib/python3.10/site-packages/matplotlib/pyplot.py?line=1807'>1808</a>\u001b[0m \u001b[39melse\u001b[39;00m:\n\u001b[0;32m-> <a href='file:///home/pllorente/.local/lib/python3.10/site-packages/matplotlib/pyplot.py?line=1808'>1809</a>\u001b[0m     locs \u001b[39m=\u001b[39m ax\u001b[39m.\u001b[39;49mset_xticks(ticks)\n\u001b[1;32m   <a href='file:///home/pllorente/.local/lib/python3.10/site-packages/matplotlib/pyplot.py?line=1810'>1811</a>\u001b[0m \u001b[39mif\u001b[39;00m labels \u001b[39mis\u001b[39;00m \u001b[39mNone\u001b[39;00m:\n\u001b[1;32m   <a href='file:///home/pllorente/.local/lib/python3.10/site-packages/matplotlib/pyplot.py?line=1811'>1812</a>\u001b[0m     labels \u001b[39m=\u001b[39m ax\u001b[39m.\u001b[39mget_xticklabels()\n",
      "File \u001b[0;32m~/.local/lib/python3.10/site-packages/matplotlib/axes/_base.py:75\u001b[0m, in \u001b[0;36m_axis_method_wrapper.__set_name__.<locals>.wrapper\u001b[0;34m(self, *args, **kwargs)\u001b[0m\n\u001b[1;32m     <a href='file:///home/pllorente/.local/lib/python3.10/site-packages/matplotlib/axes/_base.py?line=73'>74</a>\u001b[0m \u001b[39mdef\u001b[39;00m \u001b[39mwrapper\u001b[39m(\u001b[39mself\u001b[39m, \u001b[39m*\u001b[39margs, \u001b[39m*\u001b[39m\u001b[39m*\u001b[39mkwargs):\n\u001b[0;32m---> <a href='file:///home/pllorente/.local/lib/python3.10/site-packages/matplotlib/axes/_base.py?line=74'>75</a>\u001b[0m     \u001b[39mreturn\u001b[39;00m get_method(\u001b[39mself\u001b[39;49m)(\u001b[39m*\u001b[39;49margs, \u001b[39m*\u001b[39;49m\u001b[39m*\u001b[39;49mkwargs)\n",
      "File \u001b[0;32m~/.local/lib/python3.10/site-packages/matplotlib/axis.py:1855\u001b[0m, in \u001b[0;36mAxis.set_ticks\u001b[0;34m(self, ticks, labels, minor, **kwargs)\u001b[0m\n\u001b[1;32m   <a href='file:///home/pllorente/.local/lib/python3.10/site-packages/matplotlib/axis.py?line=1828'>1829</a>\u001b[0m \u001b[39mdef\u001b[39;00m \u001b[39mset_ticks\u001b[39m(\u001b[39mself\u001b[39m, ticks, labels\u001b[39m=\u001b[39m\u001b[39mNone\u001b[39;00m, \u001b[39m*\u001b[39m, minor\u001b[39m=\u001b[39m\u001b[39mFalse\u001b[39;00m, \u001b[39m*\u001b[39m\u001b[39m*\u001b[39mkwargs):\n\u001b[1;32m   <a href='file:///home/pllorente/.local/lib/python3.10/site-packages/matplotlib/axis.py?line=1829'>1830</a>\u001b[0m     \u001b[39m\"\"\"\u001b[39;00m\n\u001b[1;32m   <a href='file:///home/pllorente/.local/lib/python3.10/site-packages/matplotlib/axis.py?line=1830'>1831</a>\u001b[0m \u001b[39m    Set this Axis' tick locations and optionally labels.\u001b[39;00m\n\u001b[1;32m   <a href='file:///home/pllorente/.local/lib/python3.10/site-packages/matplotlib/axis.py?line=1831'>1832</a>\u001b[0m \n\u001b[0;32m   (...)\u001b[0m\n\u001b[1;32m   <a href='file:///home/pllorente/.local/lib/python3.10/site-packages/matplotlib/axis.py?line=1852'>1853</a>\u001b[0m \u001b[39m    ticks.\u001b[39;00m\n\u001b[1;32m   <a href='file:///home/pllorente/.local/lib/python3.10/site-packages/matplotlib/axis.py?line=1853'>1854</a>\u001b[0m \u001b[39m    \"\"\"\u001b[39;00m\n\u001b[0;32m-> <a href='file:///home/pllorente/.local/lib/python3.10/site-packages/matplotlib/axis.py?line=1854'>1855</a>\u001b[0m     result \u001b[39m=\u001b[39m \u001b[39mself\u001b[39;49m\u001b[39m.\u001b[39;49m_set_tick_locations(ticks, minor\u001b[39m=\u001b[39;49mminor)\n\u001b[1;32m   <a href='file:///home/pllorente/.local/lib/python3.10/site-packages/matplotlib/axis.py?line=1855'>1856</a>\u001b[0m     \u001b[39mif\u001b[39;00m labels \u001b[39mis\u001b[39;00m \u001b[39mnot\u001b[39;00m \u001b[39mNone\u001b[39;00m:\n\u001b[1;32m   <a href='file:///home/pllorente/.local/lib/python3.10/site-packages/matplotlib/axis.py?line=1856'>1857</a>\u001b[0m         \u001b[39mself\u001b[39m\u001b[39m.\u001b[39mset_ticklabels(labels, minor\u001b[39m=\u001b[39mminor, \u001b[39m*\u001b[39m\u001b[39m*\u001b[39mkwargs)\n",
      "File \u001b[0;32m~/.local/lib/python3.10/site-packages/matplotlib/axis.py:1804\u001b[0m, in \u001b[0;36mAxis._set_tick_locations\u001b[0;34m(self, ticks, minor)\u001b[0m\n\u001b[1;32m   <a href='file:///home/pllorente/.local/lib/python3.10/site-packages/matplotlib/axis.py?line=1799'>1800</a>\u001b[0m \u001b[39mdef\u001b[39;00m \u001b[39m_set_tick_locations\u001b[39m(\u001b[39mself\u001b[39m, ticks, \u001b[39m*\u001b[39m, minor\u001b[39m=\u001b[39m\u001b[39mFalse\u001b[39;00m):\n\u001b[1;32m   <a href='file:///home/pllorente/.local/lib/python3.10/site-packages/matplotlib/axis.py?line=1800'>1801</a>\u001b[0m     \u001b[39m# see docstring of set_ticks\u001b[39;00m\n\u001b[1;32m   <a href='file:///home/pllorente/.local/lib/python3.10/site-packages/matplotlib/axis.py?line=1801'>1802</a>\u001b[0m \n\u001b[1;32m   <a href='file:///home/pllorente/.local/lib/python3.10/site-packages/matplotlib/axis.py?line=1802'>1803</a>\u001b[0m     \u001b[39m# XXX if the user changes units, the information will be lost here\u001b[39;00m\n\u001b[0;32m-> <a href='file:///home/pllorente/.local/lib/python3.10/site-packages/matplotlib/axis.py?line=1803'>1804</a>\u001b[0m     ticks \u001b[39m=\u001b[39m \u001b[39mself\u001b[39;49m\u001b[39m.\u001b[39;49mconvert_units(ticks)\n\u001b[1;32m   <a href='file:///home/pllorente/.local/lib/python3.10/site-packages/matplotlib/axis.py?line=1804'>1805</a>\u001b[0m     \u001b[39mfor\u001b[39;00m name, axis \u001b[39min\u001b[39;00m \u001b[39mself\u001b[39m\u001b[39m.\u001b[39maxes\u001b[39m.\u001b[39m_get_axis_map()\u001b[39m.\u001b[39mitems():\n\u001b[1;32m   <a href='file:///home/pllorente/.local/lib/python3.10/site-packages/matplotlib/axis.py?line=1805'>1806</a>\u001b[0m         \u001b[39mif\u001b[39;00m \u001b[39mself\u001b[39m \u001b[39mis\u001b[39;00m axis:\n",
      "File \u001b[0;32m~/.local/lib/python3.10/site-packages/matplotlib/axis.py:1508\u001b[0m, in \u001b[0;36mAxis.convert_units\u001b[0;34m(self, x)\u001b[0m\n\u001b[1;32m   <a href='file:///home/pllorente/.local/lib/python3.10/site-packages/matplotlib/axis.py?line=1505'>1506</a>\u001b[0m     ret \u001b[39m=\u001b[39m \u001b[39mself\u001b[39m\u001b[39m.\u001b[39mconverter\u001b[39m.\u001b[39mconvert(x, \u001b[39mself\u001b[39m\u001b[39m.\u001b[39munits, \u001b[39mself\u001b[39m)\n\u001b[1;32m   <a href='file:///home/pllorente/.local/lib/python3.10/site-packages/matplotlib/axis.py?line=1506'>1507</a>\u001b[0m \u001b[39mexcept\u001b[39;00m \u001b[39mException\u001b[39;00m \u001b[39mas\u001b[39;00m e:\n\u001b[0;32m-> <a href='file:///home/pllorente/.local/lib/python3.10/site-packages/matplotlib/axis.py?line=1507'>1508</a>\u001b[0m     \u001b[39mraise\u001b[39;00m munits\u001b[39m.\u001b[39mConversionError(\u001b[39m'\u001b[39m\u001b[39mFailed to convert value(s) to axis \u001b[39m\u001b[39m'\u001b[39m\n\u001b[1;32m   <a href='file:///home/pllorente/.local/lib/python3.10/site-packages/matplotlib/axis.py?line=1508'>1509</a>\u001b[0m                                  \u001b[39mf\u001b[39m\u001b[39m'\u001b[39m\u001b[39munits: \u001b[39m\u001b[39m{\u001b[39;00mx\u001b[39m!r}\u001b[39;00m\u001b[39m'\u001b[39m) \u001b[39mfrom\u001b[39;00m \u001b[39me\u001b[39;00m\n\u001b[1;32m   <a href='file:///home/pllorente/.local/lib/python3.10/site-packages/matplotlib/axis.py?line=1509'>1510</a>\u001b[0m \u001b[39mreturn\u001b[39;00m ret\n",
      "\u001b[0;31mConversionError\u001b[0m: Failed to convert value(s) to axis units: ['ServerUser', 'ServerMentioned']"
     ]
    },
    {
     "data": {
      "image/png": "[encoded data removed]",
      "text/plain": [
       "<Figure size 720x576 with 1 Axes>"
      ]
     },
     "metadata": {
      "needs_background": "light"
     },
     "output_type": "display_data"
    }
   ],
   "source": [
    "serv = x.groupby(['ServerUser']).count().sort_values('Date', ascending  = False)['Date'][:50]\n",
    "serv1 = x.groupby(['ServerMentioned']).count().sort_values('Date', ascending  = False)['Date'][:50]\n",
    "data = [serv,serv1]\n",
    "plt.xtickl(['ServerUser', 'ServerMentioned'])\n",
    "plt.ylabel('Mentions')\n",
    "plt.boxplot(data)"
   ]
  },
  {
   "cell_type": "code",
   "execution_count": null,
   "metadata": {},
   "outputs": [],
   "source": []
  },
  {
   "cell_type": "code",
   "execution_count": 19,
   "metadata": {},
   "outputs": [
    {
     "data": {
      "text/plain": [
       "Text(0.5, 0, 'Numero menciones')"
      ]
     },
     "execution_count": 19,
     "metadata": {},
     "output_type": "execute_result"
    },
    {
     "data": {
      "image/png": "[encoded data removed]",
      "text/plain": [
       "<Figure size 720x720 with 1 Axes>"
      ]
     },
     "metadata": {
      "needs_background": "light"
     },
     "output_type": "display_data"
    }
   ],
   "source": [
    "#Ranking Servidores Mencionados\n",
    "serv1 = x.groupby(['ServerMentioned']).count().sort_values('Date', ascending  = False)['Date'][:50]\n",
    "serv1.plot(figsize = (10,10), kind='barh')\n",
    "plt.xlabel('Numero menciones')"
   ]
  },
  {
   "cell_type": "code",
   "execution_count": 5,
   "metadata": {},
   "outputs": [
    {
     "data": {
      "image/png": "[encoded data removed]",
      "text/plain": [
       "<Figure size 720x576 with 1 Axes>"
      ]
     },
     "metadata": {
      "needs_background": "light"
     },
     "output_type": "display_data"
    }
   ],
   "source": [
    "#Ranking Usuarios\n",
    "serv = x.groupby(['ServerMentioned']).count().sort_values('Date', ascending  = False)['Date']\n",
    "import matplotlib.pyplot as plt\n",
    "import numpy as np\n",
    "import pandas as pd\n",
    "\n",
    "\n",
    "# sort the data:\n",
    "data_sorted = np.sort(serv)\n",
    "\n",
    "# calculate the proportional values of samples\n",
    "p = 1. * np.arange(len(serv)) / (len(serv) - 1)\n",
    "\n",
    "# plot the sorted data:\n",
    "fig = plt.figure()\n",
    "ax2 = fig.add_subplot(122)\n",
    "plt.rcParams[\"figure.figsize\"] = (10,8)\n",
    "ax2.plot(data_sorted, p)\n",
    "ax2.set_xlabel('$Menciones$')\n",
    "ax2.set_ylabel('$p$')\n",
    "plt.xscale('log')"
   ]
  },
  {
   "cell_type": "code",
   "execution_count": 42,
   "metadata": {},
   "outputs": [
    {
     "data": {
      "image/png": "[encoded data removed]",
      "text/plain": [
       "<Figure size 864x576 with 1 Axes>"
      ]
     },
     "metadata": {
      "needs_background": "light"
     },
     "output_type": "display_data"
    }
   ],
   "source": [
    "#Ranking Usuarios\n",
    "serv = x.groupby(['UserId']).count().sort_values('Date', ascending  = False)['Date']\n",
    "import matplotlib.pyplot as plt\n",
    "import numpy as np\n",
    "import pandas as pd\n",
    "\n",
    "\n",
    "# sort the data:\n",
    "data_sorted = np.sort(serv)\n",
    "\n",
    "# calculate the proportional values of samples\n",
    "p = 1. * np.arange(len(serv)) / (len(serv) - 1)\n",
    "\n",
    "# plot the sorted data:\n",
    "fig = plt.figure()\n",
    "ax2 = fig.add_subplot(122)\n",
    "plt.rcParams[\"figure.figsize\"] = (10,8)\n",
    "ax2.plot(data_sorted, p)\n",
    "ax2.set_xlabel('$Menciones$')\n",
    "ax2.set_ylabel('$p$')\n",
    "plt.xscale('log')"
   ]
  },
  {
   "cell_type": "code",
   "execution_count": 39,
   "metadata": {},
   "outputs": [
    {
     "data": {
      "image/png": "[encoded data removed]",
      "text/plain": [
       "<Figure size 864x576 with 1 Axes>"
      ]
     },
     "metadata": {
      "needs_background": "light"
     },
     "output_type": "display_data"
    }
   ],
   "source": [
    "#Ranking Usuarios Mencionados\n",
    "serv1 = x.groupby(['UserMentioned']).count().sort_values('Date', ascending  = False)['Date']\n",
    "import matplotlib.pyplot as plt\n",
    "import numpy as np\n",
    "import pandas as pd\n",
    "\n",
    "\n",
    "# sort the data:\n",
    "data_sorted = np.sort(serv1)\n",
    "\n",
    "# calculate the proportional values of samples\n",
    "p = 1. * np.arange(len(serv1)) / (len(serv1) - 1)\n",
    "\n",
    "# plot the sorted data:\n",
    "fig = plt.figure()\n",
    "ax2 = fig.add_subplot(122)\n",
    "plt.rcParams[\"figure.figsize\"] = (20,20)\n",
    "ax2.plot(data_sorted, p)\n",
    "ax2.set_xlabel('$Menciones$')\n",
    "ax2.set_ylabel('$p$')\n",
    "plt.xscale('log')"
   ]
  },
  {
   "cell_type": "code",
   "execution_count": null,
   "metadata": {},
   "outputs": [],
   "source": [
    "u = pd.read_csv('/home/pllorente/resultado/resultadoenlace.csv')\n",
    "h = pd.DataFrame()\n",
    "h['Source'] = u['source']\n",
    "h['Target'] = u['target']\n",
    "w = h.groupby(['Source', 'Target']).size()\n",
    "print(w)\n",
    "w.to_csv('/home/pllorente/resultado/enlacerepresentar.csv')"
   ]
  },
  {
   "cell_type": "code",
   "execution_count": 49,
   "metadata": {},
   "outputs": [
    {
     "data": {
      "text/plain": [
       "Text(0, 0.5, 'Menciones')"
      ]
     },
     "execution_count": 49,
     "metadata": {},
     "output_type": "execute_result"
    },
    {
     "data": {
      "image/png": "[encoded data removed]",
      "text/plain": [
       "<Figure size 864x576 with 1 Axes>"
      ]
     },
     "metadata": {
      "needs_background": "light"
     },
     "output_type": "display_data"
    }
   ],
   "source": [
    "import matplotlib as mpl\n",
    "import matplotlib.pyplot as plt\n",
    "import numpy as np\n",
    "plt.rcParams[\"figure.figsize\"] = (12, 8)\n",
    "plt.hist(año, bins=100000)\n",
    "plt.yscale('log')\n",
    "plt.xlabel('Fecha')\n",
    "plt.ylabel('Menciones')"
   ]
  },
  {
   "cell_type": "code",
   "execution_count": null,
   "metadata": {},
   "outputs": [],
   "source": [
    "t = pd.read_csv('/home/pllorente/dat.csv')\n",
    "dia = pd.DataFrame()\n",
    "d = []\n",
    "dd = []\n",
    "i = 0\n",
    "print('listo')\n",
    "for w in t[' window']:\n",
    "    if('201' in str(t['date'].iloc[i])):\n",
    "        print('algo')\n",
    "        if(str(w)=='86400000'):\n",
    "            d.append(t['date'].iloc[i])\n",
    "            dd.append(t[' degree '].iloc[i])\n",
    "    i = i + 1\n",
    "print('listo')\n",
    "dia['date'] = d\n",
    "dia[' degree '] = dd\n",
    "dia.to_csv('degdia.csv')"
   ]
  },
  {
   "cell_type": "code",
   "execution_count": null,
   "metadata": {},
   "outputs": [],
   "source": [
    "t = pd.read_csv('degmes.csv')\n",
    "print(t['degree'].mean())\n",
    "\n"
   ]
  },
  {
   "cell_type": "code",
   "execution_count": null,
   "metadata": {},
   "outputs": [],
   "source": [
    "hora = pd.DataFrame()\n",
    "semana = pd.DataFrame()\n",
    "mes = pd.DataFrame()\n",
    "año = pd.DataFrame()\n",
    "h = []\n",
    "hd = []\n",
    "s = []\n",
    "sd = []\n",
    "m = []\n",
    "md = []\n",
    "a = []\n",
    "ad = []\n",
    "i = 0\n",
    "print('listo')\n",
    "for w in h[' window']:\n",
    "    if(str(w)=='3600000'):\n",
    "        h.append(t['date'].iloc[i])\n",
    "        hd.append(t[' degree '].iloc[i])\n",
    "    if(str(w)=='604800000'):\n",
    "        s.append(t['date'].iloc[i])\n",
    "        sd.append(t[' degree '].iloc[i])\n",
    "    if(str(w)=='2628000000'):\n",
    "        s.append(t['date'].iloc[i])\n",
    "        sd.append(t[' degree '].iloc[i])\n",
    "    if(str(w)=='31536000000'):\n",
    "        s.append(t['date'].iloc[i])\n",
    "        sd.append(t[' degree '].iloc[i])\n",
    "    i = i + 1\n",
    "print('listo')\n",
    "hora['date'] = h\n",
    "hora['degree'] = hd\n",
    "semana['date'] = s\n",
    "semana['degree'] = sd\n",
    "mes['date'] = m\n",
    "mes['degree'] = md\n",
    "año['date'] = a\n",
    "año['degree'] = ad\n",
    "hora.to_csv('deghora.csv')\n",
    "semana.to_csv('degsemana.csv')\n",
    "mes.to_csv('degmes.csv')\n",
    "año.to_csv('degaño.csv')\n"
   ]
  },
  {
   "cell_type": "code",
   "execution_count": null,
   "metadata": {},
   "outputs": [],
   "source": [
    "import matplotlib as mpl\n",
    "import matplotlib.pyplot as plt\n",
    "import numpy as np\n",
    "plt.rcParams[\"figure.figsize\"] = (6,6)\n",
    "plt.hist(h['date'], bins=100)\n"
   ]
  },
  {
   "cell_type": "code",
   "execution_count": null,
   "metadata": {},
   "outputs": [],
   "source": [
    "print(i)"
   ]
  },
  {
   "cell_type": "code",
   "execution_count": null,
   "metadata": {},
   "outputs": [],
   "source": [
    "import matplotlib.pyplot as plt\n",
    "import numpy as np\n",
    "import pandas as pd\n",
    "\n",
    "data = pd.read_csv('dat.csv')\n",
    "data[\"date\"] = pd.to_datetime(data[\"Date\"], unit='ms')\n",
    "data = data.sort_values(by='Date')\n",
    "\n",
    "plt.rcParams[\"figure.figsize\"] = (12,8)\n",
    "plt.hist(data['date'], bins=10000)\n",
    "plt.savefig('dat.png')"
   ]
  },
  {
   "cell_type": "code",
   "execution_count": 4,
   "metadata": {},
   "outputs": [
    {
     "name": "stdout",
     "output_type": "stream",
     "text": [
      "                Source           Target  Weight\n",
      "0                    0                0       1\n",
      "1          00Something             abgd       2\n",
      "2          00Something  mastodon.social       2\n",
      "3          00Something             noam       1\n",
      "4          00Something             yair       3\n",
      "...                ...              ...     ...\n",
      "145445          zvirra           zvirra       2\n",
      "145446            zyun         mstdn.jp       2\n",
      "145447            zyun             zyun       1\n",
      "145448  ä¸¼.upsilo.net   ä¸¼.upsilo.net       1\n",
      "145449         ð¾â®   oldbytes.space       1\n",
      "\n",
      "[145450 rows x 3 columns]\n",
      "False\n"
     ]
    }
   ],
   "source": [
    "t = pd.read_csv('enlacerepresentar1.csv')\n",
    "print(t)\n",
    "y = t['Source']\n",
    "print('mastodon.social' in y)\n",
    "u = 0\n",
    "l = open('listass.txt', 'r')\n",
    "j = pd.DataFrame()\n",
    "k = pd.DataFrame()\n",
    "w = []\n",
    "e = []\n",
    "h = []\n",
    "for row in l:\n",
    "    j = t[y.str.contains('social.tchncs.de|social.infranix.eu|www.mstddntfdn.online|social.targaryen.house|soc.ialis.me|social.coop|vmrpc.net|tweets|social.wxcafe.net|social.nasqueron.org')]\n",
    "    k = t[t['Target'].str.contains('social.tchncs.de|social.infranix.eu|www.mstddntfdn.online|social.targaryen.house|soc.ialis.me|social.coop|vmrpc.net|tweets|social.wxcafe.net|social.nasqueron.org')]\n",
    "j.to_csv('ress2.csv')\n",
    "k.to_csv('ress3.csv')"
   ]
  },
  {
   "cell_type": "code",
   "execution_count": 8,
   "metadata": {},
   "outputs": [
    {
     "name": "stdout",
     "output_type": "stream",
     "text": [
      "702\n",
      "702\n",
      "702\n"
     ]
    }
   ],
   "source": [
    "b = pd.read_csv('ress2.csv')\n",
    "g = open('lista.txt', 'r')\n",
    "h = []\n",
    "j = pd.DataFrame()\n",
    "q = ''\n",
    "for row in g:\n",
    "    w = row.replace(\"\\n\", \"\")\n",
    "    w = w.replace(\".csv\", \"\")\n",
    "    q = q + '|' + w\n",
    "    h.append(w)\n",
    "j = b[b['Target'].str.contains(str(q))]\n",
    "i = 0\n",
    "o = []\n",
    "oo = []\n",
    "ooo = []\n",
    "ñ = 0\n",
    "for v in j['Target']:\n",
    "    while(i< len(h)):\n",
    "        if(str(h[i]) in v):\n",
    "            o.append(str(h[i]))\n",
    "            oo.append(b['Source'].iloc[ñ])\n",
    "            ooo.append(b['Weight'].iloc[ñ])\n",
    "        i = i + 1\n",
    "    i = 0\n",
    "    ñ = ñ + 1\n",
    "print(len(o))\n",
    "print(len(oo))\n",
    "print(len(ooo))\n",
    "s = pd.DataFrame()\n",
    "s['Source'] = oo\n",
    "s['Target'] = o\n",
    "s['Weight'] =ooo\n",
    "s.to_csv('ress4.csv')\n",
    "\n",
    "\n",
    "    "
   ]
  },
  {
   "cell_type": "code",
   "execution_count": 32,
   "metadata": {},
   "outputs": [
    {
     "name": "stdout",
     "output_type": "stream",
     "text": [
      "                  date    CCL  Unnamed: 0  userid\n",
      "0        1482404531000     43           2       2\n",
      "1        1482408131000     13           4       4\n",
      "2        1482415331000     13           2       2\n",
      "3        1482418931000     94           2       2\n",
      "4        1482422531000     50           2       2\n",
      "...                ...    ...         ...     ...\n",
      "1839775  1525719731000  14675           2       2\n",
      "1839776  1525723247000   1053           2       2\n",
      "1839777  1525723247000  12471           2       2\n",
      "1839778  1525723247000  14842           2       2\n",
      "1839779  1525723247000  17746           2       2\n",
      "\n",
      "[1839780 rows x 4 columns]\n"
     ]
    }
   ],
   "source": [
    "f = pd.read_csv('deghorac.csv')\n",
    "g = f.groupby(['date','CCL'], as_index=False).count()\n",
    "print(g)"
   ]
  },
  {
   "cell_type": "code",
   "execution_count": 43,
   "metadata": {},
   "outputs": [
    {
     "name": "stdout",
     "output_type": "stream",
     "text": [
      "0.3103448275862069\n"
     ]
    }
   ],
   "source": [
    "f = pd.read_csv('degdiac.csv')\n",
    "g = f.groupby(['date','CCL'], as_index=False).count()\n",
    "h = f.groupby(['date'], as_index=False).count()\n",
    "rr = g[g['date'] == h['date'].iloc[0]]\n",
    "print(rr['userid'].max()/h['CCL'].iloc[0])"
   ]
  }
 ],
 "metadata": {
  "interpreter": {
   "hash": "767d51c1340bd893661ea55ea3124f6de3c7a262a8b4abca0554b478b1e2ff90"
  },
  "kernelspec": {
   "display_name": "Python 3.10.4 64-bit",
   "language": "python",
   "name": "python3"
  },
  "language_info": {
   "codemirror_mode": {
    "name": "ipython",
    "version": 3
   },
   "file_extension": ".py",
   "mimetype": "text/x-python",
   "name": "python",
   "nbconvert_exporter": "python",
   "pygments_lexer": "ipython3",
   "version": "3.10.4"
  }
 },
 "nbformat": 4,
 "nbformat_minor": 2
}
